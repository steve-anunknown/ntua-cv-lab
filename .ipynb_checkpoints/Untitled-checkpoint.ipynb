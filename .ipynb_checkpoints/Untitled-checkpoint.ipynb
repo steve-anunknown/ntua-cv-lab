{
 "cells": [
  {
   "cell_type": "code",
   "execution_count": 5,
   "id": "332a513e",
   "metadata": {},
   "outputs": [
    {
     "data": {
      "text/plain": [
       "['/home/stefanos/Documents/programming-projects/computer-vision',\n",
       " '/home/stefanos/anaconda3/lib/python310.zip',\n",
       " '/home/stefanos/anaconda3/lib/python3.10',\n",
       " '/home/stefanos/anaconda3/lib/python3.10/lib-dynload',\n",
       " '',\n",
       " '/home/stefanos/.local/lib/python3.10/site-packages',\n",
       " '/home/stefanos/anaconda3/lib/python3.10/site-packages',\n",
       " '/home/stefanos/anaconda3/lib/python3.10/site-packages/PyQt5_sip-12.11.0-py3.10-linux-x86_64.egg',\n",
       " '/home/stefanos/anaconda3/lib/python3.10/site-packages/mpmath-1.2.1-py3.10.egg']"
      ]
     },
     "execution_count": 5,
     "metadata": {},
     "output_type": "execute_result"
    }
   ],
   "source": [
    "import os\n",
    "os.sys.path"
   ]
  },
  {
   "cell_type": "code",
   "execution_count": 7,
   "id": "f1608967",
   "metadata": {},
   "outputs": [],
   "source": [
    "import matplotlib.pyplot as plt\n",
    "import numpy as np\n",
    "import cv2"
   ]
  },
  {
   "cell_type": "code",
   "execution_count": 2,
   "id": "218b7050",
   "metadata": {},
   "outputs": [
    {
     "ename": "NameError",
     "evalue": "name 'cv2' is not defined",
     "output_type": "error",
     "traceback": [
      "\u001b[0;31m---------------------------------------------------------------------------\u001b[0m",
      "\u001b[0;31mNameError\u001b[0m                                 Traceback (most recent call last)",
      "Cell \u001b[0;32mIn[2], line 2\u001b[0m\n\u001b[1;32m      1\u001b[0m \u001b[38;5;66;03m# read the image\u001b[39;00m\n\u001b[0;32m----> 2\u001b[0m I0 \u001b[38;5;241m=\u001b[39m \u001b[43mcv2\u001b[49m\u001b[38;5;241m.\u001b[39mimread(\u001b[38;5;124m\"\u001b[39m\u001b[38;5;124mcv23_lab1_part12_material/edgetest_23.png\u001b[39m\u001b[38;5;124m\"\u001b[39m)\n\u001b[1;32m      3\u001b[0m \u001b[38;5;66;03m# plot the image\u001b[39;00m\n\u001b[1;32m      4\u001b[0m plt\u001b[38;5;241m.\u001b[39mimshow(I0)\n",
      "\u001b[0;31mNameError\u001b[0m: name 'cv2' is not defined"
     ]
    }
   ],
   "source": [
    "# read the image\n",
    "I0 = cv2.imread(\"cv23_lab1_part12_material/edgetest_23.png\")\n",
    "# plot the image\n",
    "plt.imshow(I0)"
   ]
  },
  {
   "cell_type": "code",
   "execution_count": null,
   "id": "2898b194",
   "metadata": {},
   "outputs": [],
   "source": []
  }
 ],
 "metadata": {
  "kernelspec": {
   "display_name": "Python 3 (ipykernel)",
   "language": "python",
   "name": "python3"
  },
  "language_info": {
   "codemirror_mode": {
    "name": "ipython",
    "version": 3
   },
   "file_extension": ".py",
   "mimetype": "text/x-python",
   "name": "python",
   "nbconvert_exporter": "python",
   "pygments_lexer": "ipython3",
   "version": "3.10.9"
  }
 },
 "nbformat": 4,
 "nbformat_minor": 5
}
