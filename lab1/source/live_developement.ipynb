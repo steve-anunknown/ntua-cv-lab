{
 "cells": [
  {
   "cell_type": "code",
   "execution_count": 1,
   "metadata": {},
   "outputs": [],
   "source": [
    "import os\n",
    "import sys\n",
    "sys.path.append('../source')\n",
    "import numpy as np\n",
    "\n",
    "from cv23_lab1_part3_utils import featuresSURF\n",
    "from cv23_lab1_part3_utils import featuresHOG\n",
    "from cv23_lab1_part3_utils import matching_evaluation\n",
    "from cv23_lab1_part3_utils import FeatureExtraction\n",
    "from corner_detection_utils import CornerDetection\n",
    "from corner_detection_utils import HarrisLaplacian\n",
    "from blob_detection_utils import BlobDetection\n",
    "from blob_detection_utils import HessianLaplacian\n",
    "from box_detection_utils import BoxLaplacian"
   ]
  },
  {
   "attachments": {},
   "cell_type": "markdown",
   "metadata": {},
   "source": [
    "# Image Matching"
   ]
  },
  {
   "cell_type": "code",
   "execution_count": 2,
   "metadata": {},
   "outputs": [],
   "source": [
    "rotations = [-20, -10, 0, 10, 20]\n",
    "escalations = [0.6, 0.8, 1.0, 1.2]\n",
    "transformations = [(r, e) for r in rotations for e in escalations]"
   ]
  },
  {
   "cell_type": "code",
   "execution_count": 3,
   "metadata": {},
   "outputs": [],
   "source": [
    "descriptors = [lambda I, kp: featuresSURF(I, kp), lambda I, kp: featuresHOG(I, kp)]\n",
    "detectors = [lambda i: CornerDetection(i, 2, 2.5, 0.005, 0.05),\n",
    "             lambda i: HarrisLaplacian(i, 2, 2.5, 0.005, 0.05, 1.1, 6),\n",
    "             lambda i: BlobDetection(i, 2, 0.005),\n",
    "             lambda i: HessianLaplacian(i, 2, 0.005, 1.1, 6),\n",
    "             lambda i: BoxLaplacian(i, 2, 0.005, 1.1, 6)]\n",
    "descriptor_names = [\"featuresSURF\", \"featuresHOG\"]\n",
    "detector_names = [\"CornerDetection\", \"HarrisLaplacian\", \"BlobDetection\", \"HessianLaplacian\", \"BoxLaplacian\"]"
   ]
  },
  {
   "cell_type": "code",
   "execution_count": 4,
   "metadata": {},
   "outputs": [],
   "source": [
    "# this takes around 5 minutes\n",
    "avg_scale_errors_list = np.zeros((len(descriptors), len(detectors), 3))\n",
    "avg_theta_errors_list = np.zeros((len(descriptors), len(detectors), 3))\n",
    "for index, descriptor in enumerate(descriptors):\n",
    "    for jndex, detector in enumerate(detectors):\n",
    "        avg_scale_errors_list[index, jndex], avg_theta_errors_list[index, jndex] = matching_evaluation(detector, descriptor)"
   ]
  },
  {
   "cell_type": "code",
   "execution_count": 5,
   "metadata": {},
   "outputs": [],
   "source": [
    "with open(\"../report/avg_scale_errors.txt\", 'w') as file:\n",
    "    for index, descriptor in enumerate(descriptor_names):\n",
    "        for jndex, detector in enumerate(detector_names):\n",
    "            file.write(f\"{descriptor}, {detector} :\\t{avg_scale_errors_list[index, jndex]}\\n\")\n",
    "with open(\"../report/avg_theta_errors.txt\", 'w') as file:\n",
    "    for index, descriptor in enumerate(descriptor_names):\n",
    "        for jndex, detector in enumerate(detector_names):\n",
    "            file.write(f\"{descriptor}, {detector} :\\t{avg_theta_errors_list[index, jndex]}\\n\")"
   ]
  },
  {
   "attachments": {},
   "cell_type": "markdown",
   "metadata": {},
   "source": [
    "# Feature Extraction"
   ]
  },
  {
   "cell_type": "code",
   "execution_count": 11,
   "metadata": {},
   "outputs": [],
   "source": [
    "store_files = [\"./features/\"+detector+'_'+descriptor+\"store.txt\"\n",
    "               for detector in detector_names\n",
    "               for descriptor in descriptor_names]\n",
    "load_files = [\"./features/\"+detector+'_'+descriptor+\"load.txt\"\n",
    "              for detector in detector_names\n",
    "              for descriptor in descriptor_names]\n",
    "files = list(zip(store_files, load_files))\n",
    "for store, load in files:\n",
    "    os.mknod(store)\n",
    "    os.mknod(load)"
   ]
  },
  {
   "cell_type": "code",
   "execution_count": 12,
   "metadata": {},
   "outputs": [],
   "source": [
    "detector_descriptor = [(detector, descriptor)\n",
    "                       for detector in detectors\n",
    "                       for descriptor in descriptors]\n",
    "functions_and_files = list(zip(detector_descriptor, files))"
   ]
  },
  {
   "cell_type": "code",
   "execution_count": 15,
   "metadata": {},
   "outputs": [
    {
     "name": "stdout",
     "output_type": "stream",
     "text": [
      "Time for feature extraction: 28.270\n",
      "Time for feature extraction: 27.687\n",
      "Time for feature extraction: 221.835\n",
      "Time for feature extraction: 167.192\n",
      "Time for feature extraction: 23.660\n",
      "Time for feature extraction: 33.143\n",
      "Time for feature extraction: 179.042\n",
      "Time for feature extraction: 130.931\n",
      "Time for feature extraction: 186.082\n",
      "Time for feature extraction: 125.283\n"
     ]
    }
   ],
   "source": [
    "features_list = [FeatureExtraction(detector, descriptor, saveFile=store)\n",
    "                 for ((detector, descriptor), (store, load)) in functions_and_files]"
   ]
  }
 ],
 "metadata": {
  "kernelspec": {
   "display_name": "cv_lab1_env",
   "language": "python",
   "name": "python3"
  },
  "language_info": {
   "codemirror_mode": {
    "name": "ipython",
    "version": 3
   },
   "file_extension": ".py",
   "mimetype": "text/x-python",
   "name": "python",
   "nbconvert_exporter": "python",
   "pygments_lexer": "ipython3",
   "version": "3.7.16"
  },
  "orig_nbformat": 4
 },
 "nbformat": 4,
 "nbformat_minor": 2
}
