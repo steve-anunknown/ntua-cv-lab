{
 "cells": [
  {
   "cell_type": "code",
   "execution_count": 1,
   "metadata": {},
   "outputs": [],
   "source": [
    "import os\n",
    "import sys\n",
    "sys.path.append('../part12')\n",
    "import numpy as np\n",
    "\n",
    "from cv23_lab1_part3_utils import featuresSURF\n",
    "from cv23_lab1_part3_utils import featuresHOG\n",
    "from cv23_lab1_part3_utils import matching_evaluation\n",
    "from cv23_lab1_part3_utils import FeatureExtraction\n",
    "from cv23_lab1_part3_utils import createTrainTest\n",
    "from cv23_lab1_part3_utils import BagOfWords\n",
    "from cv23_lab1_part3_utils import svm\n",
    "from corner_detection_utils import CornerDetection\n",
    "from corner_detection_utils import HarrisLaplacian\n",
    "from blob_detection_utils import BlobDetection\n",
    "from blob_detection_utils import HessianLaplacian\n",
    "from box_detection_utils import BoxLaplacian"
   ]
  },
  {
   "attachments": {},
   "cell_type": "markdown",
   "metadata": {},
   "source": [
    "# Image Matching"
   ]
  },
  {
   "cell_type": "code",
   "execution_count": 2,
   "metadata": {},
   "outputs": [],
   "source": [
    "descriptors = [lambda I, kp: featuresSURF(I, kp), lambda I, kp: featuresHOG(I, kp)]\n",
    "detectors = [lambda i: CornerDetection(i, 2, 2.5, 0.005, 0.1),\n",
    "             lambda i: HarrisLaplacian(i, 2, 2.5, 0.005, 0.1, 1.2, 6),\n",
    "             lambda i: BlobDetection(i, 3, 0.15),\n",
    "             lambda i: HessianLaplacian(i, 3, 0.15, 1.2, 6),\n",
    "             lambda i: BoxLaplacian(i, 3, 0.05, 1.2, 6)]\n",
    "descriptor_names = [\"featuresSURF\", \"featuresHOG\"]\n",
    "detector_names = [\"CornerDetection\", \"HarrisLaplacian\", \"BlobDetection\", \"HessianLaplacian\", \"BoxLaplacian\"]\n",
    "detector_descriptor = [(detector, descriptor)\n",
    "                       for detector in detectors\n",
    "                       for descriptor in descriptors]\n",
    "detector_descriptor_names = [(detector, descriptor)\n",
    "                             for detector in detector_names\n",
    "                             for descriptor in descriptor_names]"
   ]
  },
  {
   "cell_type": "code",
   "execution_count": 3,
   "metadata": {},
   "outputs": [],
   "source": [
    "# this takes around 1-2 minutes\n",
    "avg_scale_errors_list = np.zeros((len(descriptors), len(detectors), 3))\n",
    "avg_theta_errors_list = np.zeros((len(descriptors), len(detectors), 3))\n",
    "for index, descriptor in enumerate(descriptors):\n",
    "    for jndex, detector in enumerate(detectors):\n",
    "        avg_scale_errors_list[index, jndex], avg_theta_errors_list[index, jndex] = matching_evaluation(detector, descriptor)"
   ]
  },
  {
   "cell_type": "code",
   "execution_count": 4,
   "metadata": {},
   "outputs": [],
   "source": [
    "np.set_printoptions(precision=3)\n",
    "minim = np.mean(avg_scale_errors_list[0,0])\n",
    "for index, descriptor in enumerate(descriptor_names):\n",
    "    for jndex, detector in enumerate(detector_names):\n",
    "        if minim > np.mean(avg_scale_errors_list[index, jndex]):\n",
    "            minim = np.mean(avg_scale_errors_list[index, jndex])\n",
    "            bestpair = (descriptor, detector)\n",
    "with open(\"../report/avg_scale_errors_trial.txt\", 'w') as file:\n",
    "    for index, descriptor in enumerate(descriptor_names):\n",
    "        for jndex, detector in enumerate(detector_names):\n",
    "            if (descriptor, detector) == bestpair:\n",
    "                file.write(f\"{descriptor}, {detector} :\\t{avg_scale_errors_list[index, jndex]}\\t BEST\\n\")\n",
    "            else:\n",
    "                file.write(f\"{descriptor}, {detector} :\\t{avg_scale_errors_list[index, jndex]}\\t\\n\")\n",
    "\n",
    "minim = np.mean(avg_theta_errors_list[0,0])\n",
    "for index, descriptor in enumerate(descriptor_names):\n",
    "    for jndex, detector in enumerate(detector_names):\n",
    "        if minim > np.mean(avg_scale_errors_list[index, jndex]):\n",
    "            minim = np.mean(avg_scale_errors_list[index, jndex])\n",
    "            bestpair = (descriptor, detector)\n",
    "with open(\"../report/avg_theta_errors_trial.txt\", 'w') as file:\n",
    "    for index, descriptor in enumerate(descriptor_names):\n",
    "        for jndex, detector in enumerate(detector_names):\n",
    "            if (descriptor, detector) == bestpair:\n",
    "                file.write(f\"{descriptor}, {detector} :\\t{avg_theta_errors_list[index, jndex]}\\t BEST\\n\")\n",
    "            else:\n",
    "                file.write(f\"{descriptor}, {detector} :\\t{avg_theta_errors_list[index, jndex]}\\n\")\n"
   ]
  },
  {
   "attachments": {},
   "cell_type": "markdown",
   "metadata": {},
   "source": [
    "# Feature Extraction"
   ]
  },
  {
   "cell_type": "code",
   "execution_count": 7,
   "metadata": {},
   "outputs": [],
   "source": [
    "files = [\"./features-trial/\"+detector+'_'+descriptor+\".txt\"\n",
    "               for detector in detector_names\n",
    "               for descriptor in descriptor_names]\n",
    "for name in files:\n",
    "    os.mknod(name)\n",
    "functions_and_files = list(zip(detector_descriptor, files))"
   ]
  },
  {
   "cell_type": "code",
   "execution_count": 8,
   "metadata": {},
   "outputs": [
    {
     "name": "stdout",
     "output_type": "stream",
     "text": [
      "Time for feature extraction: 23.934\n",
      "Time for feature extraction: 24.199\n",
      "Time for feature extraction: 289.699\n",
      "Time for feature extraction: 282.912\n",
      "Time for feature extraction: 44.329\n",
      "Time for feature extraction: 28.356\n",
      "Time for feature extraction: 551.242\n",
      "Time for feature extraction: 384.210\n",
      "Time for feature extraction: 563.812\n",
      "Time for feature extraction: 438.987\n"
     ]
    }
   ],
   "source": [
    "# this takes around 20 minutes\n",
    "# DO NOT EXECUTE THIS CELL IF THE \"FEATURES\" DIRECTORY EXISTS\n",
    "# IF IT EXISTS, EXECUTE THE NEXT CELL.\n",
    "features_list = [FeatureExtraction(detector, descriptor, saveFile=store)\n",
    "                 for ((detector, descriptor), store) in functions_and_files]"
   ]
  },
  {
   "cell_type": "code",
   "execution_count": 7,
   "metadata": {},
   "outputs": [],
   "source": [
    "# this is instant provided that the files exist\n",
    "features_list = [FeatureExtraction(detector, descriptor, loadFile=store) \n",
    "                   for ((detector, descriptor), store) in functions_and_files]"
   ]
  },
  {
   "cell_type": "code",
   "execution_count": 9,
   "metadata": {},
   "outputs": [
    {
     "name": "stdout",
     "output_type": "stream",
     "text": [
      "57.931\n",
      "64.828\n",
      "59.586\n",
      "65.241\n",
      "52.552\n",
      "64.276\n",
      "57.103\n",
      "64.000\n",
      "51.034\n",
      "63.862\n"
     ]
    }
   ],
   "source": [
    "results = []\n",
    "for index, feats in enumerate(features_list):\n",
    "    accs = []\n",
    "    for k in range(5):\n",
    "        # Split into a training set and a test set.\n",
    "        data_train, label_train, data_test, label_test = createTrainTest(feats, k)\n",
    "\n",
    "        # Perform Kmeans to find centroids for clusters.\n",
    "        BOF_tr, BOF_ts = BagOfWords(data_train, data_test)\n",
    "\n",
    "        # Train an svm on the training set and make predictions on the test set\n",
    "        acc, preds, probas = svm(BOF_tr, label_train, BOF_ts, label_test)\n",
    "        accs.append(acc)\n",
    "    print(f\"{100.0*np.mean(accs):.3f}\")\n",
    "    detector, descriptor = detector_descriptor_names[index]\n",
    "    results.append(f\"{detector}, {descriptor} :\\t{100.0*np.mean(accs):.3f}\\n\")\n",
    "with open(\"mean_acc_bovw_trial_results_test.txt\", 'w') as file:\n",
    "    for result in results:\n",
    "        file.write(result)"
   ]
  },
  {
   "cell_type": "code",
   "execution_count": 10,
   "metadata": {},
   "outputs": [],
   "source": [
    "import numpy as np\n",
    "from scipy.spatial.distance import cdist\n",
    "from sklearn.cluster import KMeans\n",
    "\n",
    "def myFastBagOfVisualWords(train, test, clusters=500, maxiter=100):\n",
    "    train_feature = np.concatenate(train, axis=0)\n",
    "    #test_feature = np.concatenate(test, axis=0)\n",
    "\n",
    "    # Set the number of clusters (visual words)\n",
    "    # you can choose random number of clusters\n",
    "    # clusters = random.randint(500, 2000)\n",
    "    # clusters = 1000  # You can change this value\n",
    "\n",
    "    # Perform k-means clustering\n",
    "    kmeans = KMeans(n_clusters=clusters, random_state=0, max_iter=maxiter, tol=0.001).fit(train_feature)\n",
    "\n",
    "    # Function to compute the BoVW representation for a set of images\n",
    "    def compute_bovw(feature_set):\n",
    "        bovw_set = []\n",
    "        for features in feature_set:\n",
    "            distances = cdist(features, kmeans.cluster_centers_, metric='euclidean')\n",
    "            labels = np.argmin(distances, axis=-1)\n",
    "            counts = np.bincount(labels, minlength=clusters)\n",
    "            l2norm = np.sqrt(np.sum(counts * counts))\n",
    "            bovw = counts / l2norm\n",
    "            bovw_set.append(bovw)\n",
    "        return np.array(bovw_set)\n",
    "\n",
    "    # Compute the BoVW representation for the training and testing sets\n",
    "    train_bovw = compute_bovw(train)\n",
    "    test_bovw = compute_bovw(test)\n",
    "\n",
    "    return train_bovw, test_bovw\n"
   ]
  },
  {
   "cell_type": "code",
   "execution_count": null,
   "metadata": {},
   "outputs": [],
   "source": [
    "# this takes close to an hour\n",
    "# perhaps the precompiled version uses less clusters and \n",
    "# less max_iterations? I don't know.\n",
    "results = []\n",
    "for index, feats in enumerate(features_list):\n",
    "    accs = []\n",
    "    for k in range(5):\n",
    "        # Split into a testing set and a test set.\n",
    "        data_train, label_train, data_test, label_test = createTrainTest(feats, k)\n",
    "\n",
    "        # Perform Kmeans to find centroids for clusters.\n",
    "        BOF_tr, BOF_ts = myFastBagOfVisualWords(data_train, data_test, clusters=1000, maxiter=300)\n",
    "        # Perform Kmeans to find centroids for clusters.\n",
    "        #BOF_tr, BOF_ts = BagOfWords(data_train, data_test)\n",
    "        print(BOF_tr.shape, BOF_ts.shape)\n",
    "\n",
    "        # Train an svm on the training set and make predictions on the test set\n",
    "        acc, preds, probas = svm(BOF_tr, label_train, BOF_ts, label_test)\n",
    "        accs.append(acc)\n",
    "    detector, descriptor = detector_descriptor_names[index]\n",
    "    results.append(f\"{detector}, {descriptor} :\\t{100.0*np.mean(accs):.3f}\\n\")\n",
    "with open(\"mean_acc_mybovw_1000_trial_results.txt\", 'w') as file:\n",
    "    for result in results:\n",
    "        file.write(result)"
   ]
  },
  {
   "cell_type": "code",
   "execution_count": 24,
   "metadata": {},
   "outputs": [
    {
     "name": "stdout",
     "output_type": "stream",
     "text": [
      "(337, 500) (145, 500)\n",
      "(337, 500) (145, 500)\n",
      "(337, 500) (145, 500)\n",
      "(337, 500) (145, 500)\n",
      "(337, 500) (145, 500)\n",
      "(337, 500) (145, 500)\n",
      "(337, 500) (145, 500)\n",
      "(337, 500) (145, 500)\n",
      "(337, 500) (145, 500)\n",
      "(337, 500) (145, 500)\n",
      "(337, 500) (145, 500)\n",
      "(337, 500) (145, 500)\n",
      "(337, 500) (145, 500)\n",
      "(337, 500) (145, 500)\n",
      "(337, 500) (145, 500)\n",
      "(337, 500) (145, 500)\n",
      "(337, 500) (145, 500)\n",
      "(337, 500) (145, 500)\n",
      "(337, 500) (145, 500)\n",
      "(337, 500) (145, 500)\n",
      "(337, 500) (145, 500)\n",
      "(337, 500) (145, 500)\n",
      "(337, 500) (145, 500)\n",
      "(337, 500) (145, 500)\n",
      "(337, 500) (145, 500)\n",
      "(337, 500) (145, 500)\n",
      "(337, 500) (145, 500)\n",
      "(337, 500) (145, 500)\n",
      "(337, 500) (145, 500)\n",
      "(337, 500) (145, 500)\n",
      "(337, 500) (145, 500)\n",
      "(337, 500) (145, 500)\n",
      "(337, 500) (145, 500)\n",
      "(337, 500) (145, 500)\n",
      "(337, 500) (145, 500)\n",
      "(337, 500) (145, 500)\n",
      "(337, 500) (145, 500)\n",
      "(337, 500) (145, 500)\n",
      "(337, 500) (145, 500)\n",
      "(337, 500) (145, 500)\n",
      "(337, 500) (145, 500)\n",
      "(337, 500) (145, 500)\n",
      "(337, 500) (145, 500)\n",
      "(337, 500) (145, 500)\n",
      "(337, 500) (145, 500)\n",
      "(337, 500) (145, 500)\n",
      "(337, 500) (145, 500)\n",
      "(337, 500) (145, 500)\n",
      "(337, 500) (145, 500)\n",
      "(337, 500) (145, 500)\n"
     ]
    }
   ],
   "source": [
    "# This is perhaps a little bit faster. It takes\n",
    "# around 30 minutes instead of 60. The number of iterations\n",
    "# do not seem to make it much better. Increasing\n",
    "# the tolerance makes it a bit faster, but the\n",
    "# accuracy is also slightly decreased.\n",
    "results = []\n",
    "for index, feats in enumerate(features_list):\n",
    "    accs = []\n",
    "    for k in range(5):\n",
    "        # Split into a testing set and a test set.\n",
    "        data_train, label_train, data_test, label_test = createTrainTest(feats, k)\n",
    "\n",
    "        # Perform Kmeans to find centroids for clusters.\n",
    "        BOF_tr, BOF_ts = myFastBagOfVisualWords(data_train, data_test, clusters=500, maxiter=100)\n",
    "\n",
    "        # Train an svm on the training set and make predictions on the test set\n",
    "        acc, preds, probas = svm(BOF_tr, label_train, BOF_ts, label_test)\n",
    "        accs.append(acc)\n",
    "    detector, descriptor = detector_descriptor_names[index]\n",
    "    results.append(f\"{detector}, {descriptor} :\\t{100.0*np.mean(accs):.3f}\\n\")\n",
    "    \n",
    "with open(\"mean_acc_mybovw_500_trial_results.txt\", 'w') as file:\n",
    "    for result in results:\n",
    "        file.write(result)"
   ]
  }
 ],
 "metadata": {
  "kernelspec": {
   "display_name": "cv_lab1_env",
   "language": "python",
   "name": "python3"
  },
  "language_info": {
   "codemirror_mode": {
    "name": "ipython",
    "version": 3
   },
   "file_extension": ".py",
   "mimetype": "text/x-python",
   "name": "python",
   "nbconvert_exporter": "python",
   "pygments_lexer": "ipython3",
   "version": "3.7.16"
  },
  "orig_nbformat": 4
 },
 "nbformat": 4,
 "nbformat_minor": 2
}
