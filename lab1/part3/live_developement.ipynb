{
 "cells": [
  {
   "cell_type": "code",
   "execution_count": 14,
   "metadata": {},
   "outputs": [],
   "source": [
    "import os\n",
    "import sys\n",
    "sys.path.append('../part12')\n",
    "import numpy as np\n",
    "\n",
    "from cv23_lab1_part3_utils import featuresSURF\n",
    "from cv23_lab1_part3_utils import featuresHOG\n",
    "from cv23_lab1_part3_utils import matching_evaluation\n",
    "from cv23_lab1_part3_utils import FeatureExtraction\n",
    "from cv23_lab1_part3_utils import createTrainTest\n",
    "from cv23_lab1_part3_utils import BagOfWords\n",
    "from cv23_lab1_part3_utils import svm\n",
    "from corner_detection_utils import CornerDetection\n",
    "from corner_detection_utils import HarrisLaplacian\n",
    "from blob_detection_utils import BlobDetection\n",
    "from blob_detection_utils import HessianLaplacian\n",
    "from box_detection_utils import BoxLaplacian"
   ]
  },
  {
   "attachments": {},
   "cell_type": "markdown",
   "metadata": {},
   "source": [
    "# Image Matching"
   ]
  },
  {
   "cell_type": "code",
   "execution_count": 15,
   "metadata": {},
   "outputs": [],
   "source": [
    "rotations = [-20, -10, 0, 10, 20]\n",
    "escalations = [0.6, 0.8, 1.0, 1.2]\n",
    "transformations = [(r, e) for r in rotations for e in escalations]"
   ]
  },
  {
   "cell_type": "code",
   "execution_count": 16,
   "metadata": {},
   "outputs": [],
   "source": [
    "descriptors = [lambda I, kp: featuresSURF(I, kp), lambda I, kp: featuresHOG(I, kp)]\n",
    "detectors = [lambda i: CornerDetection(i, 2, 2.5, 0.005, 0.05),\n",
    "             lambda i: HarrisLaplacian(i, 2, 2.5, 0.005, 0.05, 1.1, 6),\n",
    "             lambda i: BlobDetection(i, 2, 0.005),\n",
    "             lambda i: HessianLaplacian(i, 2, 0.005, 1.1, 6),\n",
    "             lambda i: BoxLaplacian(i, 2, 0.005, 1.1, 6)]\n",
    "descriptor_names = [\"featuresSURF\", \"featuresHOG\"]\n",
    "detector_names = [\"CornerDetection\", \"HarrisLaplacian\", \"BlobDetection\", \"HessianLaplacian\", \"BoxLaplacian\"]\n",
    "detector_descriptor = [(detector, descriptor)\n",
    "                       for detector in detectors\n",
    "                       for descriptor in descriptors]\n",
    "detector_descriptor_names = [(detector, descriptor)\n",
    "                             for detector in detector_names\n",
    "                             for descriptor in descriptor_names]"
   ]
  },
  {
   "cell_type": "code",
   "execution_count": 17,
   "metadata": {},
   "outputs": [],
   "source": [
    "# this takes around 1-2 minutes\n",
    "avg_scale_errors_list = np.zeros((len(descriptors), len(detectors), 3))\n",
    "avg_theta_errors_list = np.zeros((len(descriptors), len(detectors), 3))\n",
    "for index, descriptor in enumerate(descriptors):\n",
    "    for jndex, detector in enumerate(detectors):\n",
    "        avg_scale_errors_list[index, jndex], avg_theta_errors_list[index, jndex] = matching_evaluation(detector, descriptor)"
   ]
  },
  {
   "cell_type": "code",
   "execution_count": 18,
   "metadata": {},
   "outputs": [],
   "source": [
    "with open(\"../report/avg_scale_errors.txt\", 'w') as file:\n",
    "    for index, descriptor in enumerate(descriptor_names):\n",
    "        for jndex, detector in enumerate(detector_names):\n",
    "            file.write(f\"{descriptor}, {detector} :\\t{avg_scale_errors_list[index, jndex]}\\n\")\n",
    "with open(\"../report/avg_theta_errors.txt\", 'w') as file:\n",
    "    for index, descriptor in enumerate(descriptor_names):\n",
    "        for jndex, detector in enumerate(detector_names):\n",
    "            file.write(f\"{descriptor}, {detector} :\\t{avg_theta_errors_list[index, jndex]}\\n\")"
   ]
  },
  {
   "attachments": {},
   "cell_type": "markdown",
   "metadata": {},
   "source": [
    "# Feature Extraction"
   ]
  },
  {
   "cell_type": "code",
   "execution_count": 19,
   "metadata": {},
   "outputs": [],
   "source": [
    "files = [\"./features/\"+detector+'_'+descriptor+\".txt\"\n",
    "               for detector in detector_names\n",
    "               for descriptor in descriptor_names]\n",
    "#for name in files:\n",
    "#    os.mknod(name)\n",
    "functions_and_files = list(zip(detector_descriptor, files))"
   ]
  },
  {
   "cell_type": "code",
   "execution_count": 20,
   "metadata": {},
   "outputs": [
    {
     "name": "stdout",
     "output_type": "stream",
     "text": [
      "Time for feature extraction: 32.985\n",
      "Time for feature extraction: 25.580\n",
      "Time for feature extraction: 210.221\n",
      "Time for feature extraction: 150.143\n",
      "Time for feature extraction: 21.750\n",
      "Time for feature extraction: 31.316\n",
      "Time for feature extraction: 169.615\n",
      "Time for feature extraction: 124.148\n",
      "Time for feature extraction: 175.882\n",
      "Time for feature extraction: 117.983\n"
     ]
    }
   ],
   "source": [
    "# this takes around 20 minutes\n",
    "# DO NOT EXECUTE THIS CELL IF THE \"FEATURES\" DIRECTORY EXISTS\n",
    "# IF IT EXISTS, EXECUTE THE NEXT CELL.\n",
    "features_list = [FeatureExtraction(detector, descriptor, saveFile=store)\n",
    "                 for ((detector, descriptor), store) in functions_and_files]"
   ]
  },
  {
   "cell_type": "code",
   "execution_count": 21,
   "metadata": {},
   "outputs": [],
   "source": [
    "# this is instant provided that the files exist\n",
    "features_list = [FeatureExtraction(detector, descriptor, loadFile=store) \n",
    "                   for ((detector, descriptor), store) in functions_and_files]"
   ]
  },
  {
   "cell_type": "code",
   "execution_count": 66,
   "metadata": {},
   "outputs": [],
   "source": [
    "for index, feats in enumerate(features_list):\n",
    "    accs = []\n",
    "    for k in range(5):\n",
    "        # Split into a training set and a test set.\n",
    "        data_train, label_train, data_test, label_test = createTrainTest(feats, k)\n",
    "\n",
    "        # Perform Kmeans to find centroids for clusters.\n",
    "        BOF_tr, BOF_ts = BagOfWords(data_train, data_test)\n",
    "\n",
    "        # Train an svm on the training set and make predictions on the test set\n",
    "        acc, preds, probas = svm(BOF_tr, label_train, BOF_ts, label_test)\n",
    "        accs.append(acc)\n",
    "    detector, descriptor = detector_descriptor_names[index]\n",
    "    with open(f\"mean_acc_{detector}_{descriptor}.txt\", 'w') as file:\n",
    "        file.write(f\"{100.0*np.mean(acc):.3f}\")"
   ]
  }
 ],
 "metadata": {
  "kernelspec": {
   "display_name": "cv_lab1_env",
   "language": "python",
   "name": "python3"
  },
  "language_info": {
   "codemirror_mode": {
    "name": "ipython",
    "version": 3
   },
   "file_extension": ".py",
   "mimetype": "text/x-python",
   "name": "python",
   "nbconvert_exporter": "python",
   "pygments_lexer": "ipython3",
   "version": "3.7.16"
  },
  "orig_nbformat": 4
 },
 "nbformat": 4,
 "nbformat_minor": 2
}
